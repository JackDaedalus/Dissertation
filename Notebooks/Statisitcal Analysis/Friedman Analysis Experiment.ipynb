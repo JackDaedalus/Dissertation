{
 "cells": [
  {
   "cell_type": "markdown",
   "id": "9bee14d1-09de-45e3-92e9-a636f0b7c63a",
   "metadata": {
    "jp-MarkdownHeadingCollapsed": true,
    "tags": []
   },
   "source": [
    "# Disseration Experiment FriedA\n",
    "# Friedman Analysis December Nine¶\n",
    "Ciaran Finnegan December 2023"
   ]
  },
  {
   "cell_type": "markdown",
   "id": "c1a25d3e-4565-45b4-a7c7-36427c9f69f7",
   "metadata": {},
   "source": [
    "# Import Libraries + Custom Functions"
   ]
  },
  {
   "cell_type": "markdown",
   "id": "641038cd-5fb4-4fd4-b6f1-01535b3ae943",
   "metadata": {},
   "source": [
    "## Import Libraries"
   ]
  },
  {
   "cell_type": "code",
   "execution_count": 1,
   "id": "8fec94df-2e1d-424f-9807-2fba6fef2530",
   "metadata": {},
   "outputs": [],
   "source": [
    "import pandas as pd\n",
    "from scipy.stats import friedmanchisquare\n",
    "from scipy.stats import wilcoxon\n",
    "from itertools import combinations\n",
    "#from prettytable import PrettyTable\n",
    "from tabulate import tabulate\n",
    "import seaborn as sns\n",
    "import matplotlib.pyplot as plt\n",
    "import numpy as np"
   ]
  },
  {
   "cell_type": "markdown",
   "id": "9163040a-742e-422a-a40c-b5a444fa86d7",
   "metadata": {},
   "source": [
    "#### Suppress Warnings to clean up output"
   ]
  },
  {
   "cell_type": "code",
   "execution_count": 2,
   "id": "f50be335-8934-406c-8b66-10d543a48699",
   "metadata": {},
   "outputs": [],
   "source": [
    "import warnings\n",
    "warnings.simplefilter(action='ignore', category=Warning)"
   ]
  },
  {
   "cell_type": "markdown",
   "id": "54309543-f7f5-478c-a75c-14bec97ead72",
   "metadata": {},
   "source": [
    "# Load Data"
   ]
  },
  {
   "cell_type": "markdown",
   "id": "ea8568a6-a892-4330-982d-af60738be872",
   "metadata": {},
   "source": [
    "## Load EXCEL"
   ]
  },
  {
   "cell_type": "code",
   "execution_count": 3,
   "id": "388b1878-3dad-4e65-99a7-0e5cb34c624e",
   "metadata": {},
   "outputs": [],
   "source": [
    "# Load the data from an Excel file\n",
    "# Replace 'your_file_path_here.xlsx' with the actual file path\n",
    "data = pd.read_excel('XAI_StatTest1_FullFakeNorm_RowLables_v2.xlsx')"
   ]
  },
  {
   "cell_type": "markdown",
   "id": "bb9df7df-257d-4778-8f90-e491a2c4491c",
   "metadata": {},
   "source": [
    "## Extract Values from EXCEL"
   ]
  },
  {
   "cell_type": "code",
   "execution_count": 4,
   "id": "081b90ff-9e67-4541-b8f9-992d74560419",
   "metadata": {},
   "outputs": [],
   "source": [
    "# Extracting the values for each XAI method\n",
    "shap = data['SHAP'].values\n",
    "lime = data['LIME'].values\n",
    "anchors = data['ANCHORS'].values\n",
    "dice = data['DiCE'].values"
   ]
  },
  {
   "cell_type": "markdown",
   "id": "502e93ce-ba40-458b-bd00-fc9add3994c4",
   "metadata": {},
   "source": [
    "# Friedman Analysis"
   ]
  },
  {
   "cell_type": "markdown",
   "id": "e35f14f3-1d6c-4941-8d66-fa9122d6379c",
   "metadata": {},
   "source": [
    "## Perform Friedman Test"
   ]
  },
  {
   "cell_type": "code",
   "execution_count": 5,
   "id": "7e43040c-e462-441f-aa38-14cb6cbf482f",
   "metadata": {},
   "outputs": [],
   "source": [
    "# Performing the Friedman test\n",
    "friedman_test_result = friedmanchisquare(shap, lime, anchors, dice)"
   ]
  },
  {
   "cell_type": "markdown",
   "id": "eb0af40c-12bb-4498-970d-d6ffa87586fa",
   "metadata": {},
   "source": [
    "## Present Friedman Analysis"
   ]
  },
  {
   "cell_type": "code",
   "execution_count": 6,
   "id": "383d1108-7d93-4c2d-b34c-adc8650420e9",
   "metadata": {},
   "outputs": [
    {
     "name": "stdout",
     "output_type": "stream",
     "text": [
      "Friedman Test Results:\n",
      "╒═════════════╤══════════╕\n",
      "│ Statistic   │   2.1064 │\n",
      "╞═════════════╪══════════╡\n",
      "│ P-Value     │   0.5506 │\n",
      "╘═════════════╧══════════╛\n"
     ]
    }
   ],
   "source": [
    "# Prepare Friedman test results for tabulate\n",
    "friedman_results = [[\"Statistic\", \"{:.4f}\".format(friedman_test_result.statistic)],\n",
    "                    [\"P-Value\", \"{:.4f}\".format(friedman_test_result.pvalue)]]\n",
    "\n",
    "print(\"Friedman Test Results:\")\n",
    "print(tabulate(friedman_results, headers=\"firstrow\", tablefmt=\"fancy_grid\"))"
   ]
  },
  {
   "cell_type": "markdown",
   "id": "c38db1f1-d65d-4073-a467-df13150d47c6",
   "metadata": {},
   "source": [
    "Friedman Test Statistics\n",
    "\n",
    "The Friedman test statistic is 2.523 with a p-value of 0.471. Since the p-value is greater than the level of \n",
    "significance (0.05), we fail to reject the null hypothesis. \n",
    "\n",
    "This means that there is no statistically significant difference between the four XAI methods \n",
    "(SHAP, LIME, ANCHORS, and DiCE) based on the numbers captured in the XAI Metrics dataset in the earlier experiments."
   ]
  },
  {
   "cell_type": "markdown",
   "id": "0c4f9d16-bf3a-4a14-9663-0641e40aa84a",
   "metadata": {},
   "source": [
    "# Descriptive Analysis"
   ]
  },
  {
   "cell_type": "code",
   "execution_count": 7,
   "id": "c7e67fb8-2c4c-449e-a7ed-b9d37674f526",
   "metadata": {},
   "outputs": [],
   "source": [
    "# Calculate descriptive statistics\n",
    "descriptive_stats = data.describe()"
   ]
  },
  {
   "cell_type": "code",
   "execution_count": 8,
   "id": "20a7d89f-e6e8-49dc-9e44-333c401e03e9",
   "metadata": {},
   "outputs": [
    {
     "name": "stdout",
     "output_type": "stream",
     "text": [
      "\n",
      "Descriptive Statistics:\n",
      "╒═════════╤══════════╤══════════╤═══════════╤═══════════╕\n",
      "│ index   │     SHAP │     LIME │   ANCHORS │      DiCE │\n",
      "╞═════════╪══════════╪══════════╪═══════════╪═══════════╡\n",
      "│ count   │ 5        │ 5        │  5        │ 5         │\n",
      "├─────────┼──────────┼──────────┼───────────┼───────────┤\n",
      "│ mean    │ 0.520513 │ 0.342057 │  0.139701 │ 0.597023  │\n",
      "├─────────┼──────────┼──────────┼───────────┼───────────┤\n",
      "│ std     │ 0.411811 │ 0.41351  │  0.238134 │ 0.354902  │\n",
      "├─────────┼──────────┼──────────┼───────────┼───────────┤\n",
      "│ min     │ 0.08     │ 0.01     │  0.01     │ 0.0241149 │\n",
      "├─────────┼──────────┼──────────┼───────────┼───────────┤\n",
      "│ 25%     │ 0.265867 │ 0.01     │  0.01     │ 0.536     │\n",
      "├─────────┼──────────┼──────────┼───────────┼───────────┤\n",
      "│ 50%     │ 0.34     │ 0.22159  │  0.01     │ 0.65      │\n",
      "├─────────┼──────────┼──────────┼───────────┼───────────┤\n",
      "│ 75%     │ 0.9167   │ 0.468697 │  0.109903 │ 0.875     │\n",
      "├─────────┼──────────┼──────────┼───────────┼───────────┤\n",
      "│ max     │ 1        │ 1        │  0.5586   │ 0.9       │\n",
      "╘═════════╧══════════╧══════════╧═══════════╧═══════════╛\n"
     ]
    }
   ],
   "source": [
    "# Prepare descriptive statistics for tabulate\n",
    "desc_stats_table = descriptive_stats.reset_index()\n",
    "desc_stats_formatted = desc_stats_table.values.tolist()\n",
    "desc_stats_formatted.insert(0, desc_stats_table.columns.tolist())\n",
    "\n",
    "print(\"\\nDescriptive Statistics:\")\n",
    "print(tabulate(desc_stats_formatted, headers=\"firstrow\", tablefmt=\"fancy_grid\"))"
   ]
  },
  {
   "cell_type": "markdown",
   "id": "3be7750f-db2a-4614-a8cf-296ea2221c29",
   "metadata": {},
   "source": [
    "# Plot Analysis"
   ]
  },
  {
   "cell_type": "markdown",
   "id": "8cb5ea70-cc50-4523-b552-2d0ab4a67a5d",
   "metadata": {},
   "source": [
    "## Generate Plots"
   ]
  },
  {
   "cell_type": "markdown",
   "id": "f912286e-c30d-44c5-a520-ceef158141ae",
   "metadata": {},
   "source": [
    "After the statistical analysis, we will generate both a box plot and a violin plot for your data. \n",
    "These plots will help visualize the distribution and spread of the data across the four XAI methods."
   ]
  },
  {
   "cell_type": "code",
   "execution_count": 9,
   "id": "5efca790-1c36-4b5c-8ec7-2b865b1d9f46",
   "metadata": {},
   "outputs": [],
   "source": [
    "# Reshape the data for plotting\n",
    "reshaped_data = pd.melt(data, id_vars=['Unnamed: 0'], value_vars=['SHAP', 'LIME', 'ANCHORS', 'DiCE'],\n",
    "                        var_name='Method', value_name='Score')"
   ]
  },
  {
   "cell_type": "markdown",
   "id": "03ec011c-3a48-4488-9ba5-90760bb9ac64",
   "metadata": {},
   "source": [
    "### Box Plot\n",
    "\n",
    "In the Box Plot, the x-axis now correctly represents the four XAI methods (SHAP, LIME, ANCHORS, and DiCE):\n",
    "\n",
    "The box shows the interquartile range (IQR), indicating the middle 50% of scores for each method.\n",
    "\n",
    "The median is represented by the line within the box.\n",
    "\n",
    "The whiskers extend to show the range of the data, excluding outliers.\n",
    "\n",
    "Any outliers are shown as individual points beyond the whiskers.\n",
    "\n",
    "This plot allows us to compare the central tendency and variability in scores across the different XAI methods."
   ]
  },
  {
   "cell_type": "code",
   "execution_count": 10,
   "id": "e1cd6fd4-110a-4d5d-98af-3c74b30f8720",
   "metadata": {},
   "outputs": [
    {
     "data": {
      "image/png": "[encoded data removed]",
      "text/plain": [
       "<Figure size 864x432 with 1 Axes>"
      ]
     },
     "metadata": {
      "needs_background": "light"
     },
     "output_type": "display_data"
    }
   ],
   "source": [
    "# Creating and displaying a Box Plot\n",
    "plt.figure(figsize=(12, 6)) # Adjust the figure size as needed\n",
    "sns.boxplot(x='Method', y='Score', data=reshaped_data)\n",
    "plt.title('Box Plot of XAI Methods')\n",
    "plt.ylabel('Scores')\n",
    "plt.xlabel('XAI Methods')\n",
    "plt.show() # Display the first plot"
   ]
  },
  {
   "cell_type": "markdown",
   "id": "f5456390-6e4d-4428-a669-73a36e670605",
   "metadata": {},
   "source": [
    "### Violin Plot\n",
    "In the Violin Plot, similar to the box plot, the x-axis correctly represents the XAI methods:\n",
    "\n",
    "The width of the plot at different score values indicates the density of scores.\n",
    "\n",
    "It combines features of the box plot, like the median and IQR, with the kernel density estimation.\n",
    "\n",
    "This plot provides a fuller picture of the distribution of scores, showing both the range and the density of scores for each method."
   ]
  },
  {
   "cell_type": "code",
   "execution_count": 11,
   "id": "2900f63b-21c0-4a20-8613-027279b16d50",
   "metadata": {},
   "outputs": [
    {
     "data": {
      "image/png": "[encoded data removed]",
      "text/plain": [
       "<Figure size 864x432 with 1 Axes>"
      ]
     },
     "metadata": {
      "needs_background": "light"
     },
     "output_type": "display_data"
    }
   ],
   "source": [
    "# Creating and displaying a Violin Plot\n",
    "plt.figure(figsize=(12, 6)) # Adjust the figure size as needed\n",
    "sns.violinplot(x='Method', y='Score', data=reshaped_data)\n",
    "plt.title('Violin Plot of XAI Methods')\n",
    "plt.ylabel('Scores')\n",
    "plt.xlabel('XAI Methods')\n",
    "plt.show() # Display the second plot"
   ]
  },
  {
   "cell_type": "markdown",
   "id": "20bb43dd-83c0-4130-acf3-72cb230cb7c3",
   "metadata": {},
   "source": [
    "## Plots Summary"
   ]
  },
  {
   "cell_type": "markdown",
   "id": "cbd7c4a1-5054-446a-8ab1-267acbd9cfdf",
   "metadata": {},
   "source": [
    "These visualizations accurately reflect the distribution of scores across the four XAI methods. \n",
    "\n",
    "They allow for a comprehensive comparison, showing not only the range and central tendencies but also the distribution patterns of scores for SHAP, LIME, ANCHORS, and DiCE. \n",
    "\n",
    "The box plot highlights the spread and central measures, while the violin plot offers a deeper insight into the density and distribution of the scores."
   ]
  },
  {
   "cell_type": "markdown",
   "id": "431d18bf-dcdb-4602-846d-36a3dc238ffa",
   "metadata": {},
   "source": [
    "# Wilcoxon Signed-Rank Test Analysis"
   ]
  },
  {
   "cell_type": "markdown",
   "id": "87cc284e-d936-453b-8b7b-b6d0db266c98",
   "metadata": {},
   "source": [
    "\n",
    "The Wilcoxon signed-rank test is a non-parametric test used to compare two related samples to assess whether their population mean ranks differ. \n",
    "It's an alternative to the paired t-test when the data cannot be assumed to be normally distributed."
   ]
  },
  {
   "cell_type": "markdown",
   "id": "9009a8e4-952c-4fbb-aa91-09658bdab204",
   "metadata": {},
   "source": [
    "## Wilcoxon Function"
   ]
  },
  {
   "cell_type": "code",
   "execution_count": 12,
   "id": "3eb339c8-4a7a-4109-bb82-7d953c3896b1",
   "metadata": {},
   "outputs": [],
   "source": [
    "# Function to perform Wilcoxon signed-rank test pairwise and return results in a list of dictionaries\n",
    "def perform_wilcoxon(data, methods):\n",
    "    results = []\n",
    "    for method1, method2 in combinations(methods, 2):\n",
    "        # Performing the Wilcoxon test for each pair\n",
    "        stat, p = wilcoxon(data[method1], data[method2])\n",
    "        results.append({'Comparison': f'{method1} vs {method2}', 'Statistic': stat, 'P-Value': p})\n",
    "    return results"
   ]
  },
  {
   "cell_type": "markdown",
   "id": "cdce9f48-c708-49ac-bfe6-fdc485378dbc",
   "metadata": {},
   "source": [
    "## Pairwise Test Function"
   ]
  },
  {
   "cell_type": "code",
   "execution_count": 13,
   "id": "e3b39bbe-217b-4c54-bc3a-9618b1abfca5",
   "metadata": {},
   "outputs": [],
   "source": [
    "# Function to compute pairwise Wilcoxon tests and return p-values in a matrix form\n",
    "def compute_wilcoxon_matrix(data, methods):\n",
    "    p_values_matrix = np.ones((len(methods), len(methods)))  # Initialize matrix of ones\n",
    "    for i, method1 in enumerate(methods):\n",
    "        for j, method2 in enumerate(methods):\n",
    "            if i < j:  # Avoid redundant calculations\n",
    "                _, p_value = wilcoxon(data[method1], data[method2])\n",
    "                p_values_matrix[i, j] = p_value\n",
    "                p_values_matrix[j, i] = p_value  # Symmetric matrix\n",
    "    return p_values_matrix"
   ]
  },
  {
   "cell_type": "markdown",
   "id": "c23f6153-ff2b-409b-a14c-7a2d097a1833",
   "metadata": {},
   "source": [
    "## Perform Tests"
   ]
  },
  {
   "cell_type": "code",
   "execution_count": 14,
   "id": "fc4f335b-3c33-4fd1-86b5-ab2852144427",
   "metadata": {},
   "outputs": [],
   "source": [
    "# List of XAI methods\n",
    "methods = ['SHAP', 'LIME', 'ANCHORS', 'DiCE']"
   ]
  },
  {
   "cell_type": "code",
   "execution_count": 15,
   "id": "2431c89a-a3c0-4675-93c1-f5a0f9d53eaf",
   "metadata": {},
   "outputs": [],
   "source": [
    "# Performing the pairwise Wilcoxon signed-rank test\n",
    "wilcoxon_results = perform_wilcoxon(data, methods)"
   ]
  },
  {
   "cell_type": "markdown",
   "id": "4f31223e-fd41-4269-9822-f53514d6757b",
   "metadata": {},
   "source": [
    "Here are the results of applying the Wilcoxon signed-rank test pairwise on the four XAI methods:"
   ]
  },
  {
   "cell_type": "code",
   "execution_count": 16,
   "id": "0bf7a8b1-fa4c-4a2f-a2e8-39e3c113dddc",
   "metadata": {},
   "outputs": [
    {
     "name": "stdout",
     "output_type": "stream",
     "text": [
      "╒════╤═════════════════╤═════════════╤═══════════╕\n",
      "│    │ Comparison      │   Statistic │   P-Value │\n",
      "╞════╪═════════════════╪═════════════╪═══════════╡\n",
      "│  0 │ SHAP vs LIME    │           3 │  0.465209 │\n",
      "├────┼─────────────────┼─────────────┼───────────┤\n",
      "│  1 │ SHAP vs ANCHORS │           3 │  0.3125   │\n",
      "├────┼─────────────────┼─────────────┼───────────┤\n",
      "│  2 │ SHAP vs DiCE    │           7 │  1        │\n",
      "├────┼─────────────────┼─────────────┼───────────┤\n",
      "│  3 │ LIME vs ANCHORS │           1 │  0.285049 │\n",
      "├────┼─────────────────┼─────────────┼───────────┤\n",
      "│  4 │ LIME vs DiCE    │           4 │  0.4375   │\n",
      "├────┼─────────────────┼─────────────┼───────────┤\n",
      "│  5 │ ANCHORS vs DiCE │           3 │  0.3125   │\n",
      "╘════╧═════════════════╧═════════════╧═══════════╛\n"
     ]
    }
   ],
   "source": [
    "# Convert results to DataFrame and format using tabulate for better aesthetics\n",
    "wilcoxon_df = pd.DataFrame(wilcoxon_results)\n",
    "print(tabulate(wilcoxon_df, headers='keys', tablefmt='fancy_grid'))"
   ]
  },
  {
   "cell_type": "markdown",
   "id": "dd147984-2e05-4ed4-87eb-c3422210014c",
   "metadata": {},
   "source": [
    "### Interpretation of 'Statistic' and 'P-Value'\n",
    "\n",
    "#### Statistic: \n",
    "This is the sum of the ranks of the differences between the paired samples, considering their signs. A lower value of the statistic implies a greater difference between the pairs. However, interpreting the magnitude of this statistic can be less straightforward than in parametric tests, as it depends on the size of the dataset and the ranking of the differences.\n",
    "\n",
    "#### P-Value: \n",
    "The p-value indicates the probability of obtaining test results at least as extreme as the ones observed during the test, under the assumption that the null hypothesis (no difference between the pairs) is true. A low p-value (typically ≤ 0.05) suggests that you can reject the null hypothesis, meaning there is a statistically significant difference between the two samples being compared."
   ]
  },
  {
   "cell_type": "markdown",
   "id": "901d881a-8663-48f6-9ed2-eca2b3335a7a",
   "metadata": {},
   "source": [
    "### Further Elaboration on the Test Results"
   ]
  },
  {
   "cell_type": "markdown",
   "id": "f52361e0-b7cf-4a73-9127-89fc2835d720",
   "metadata": {},
   "source": [
    "The Wilcoxon signed-rank test results provide two key pieces of information: the 'Statistic' and the 'P-Value'.\n",
    "\n",
    "The 'Statistic' value in the context of the Wilcoxon test represents the sum of positive ranks in the differences between paired samples. It reflects the magnitude and direction of differences but doesn't directly translate to the size of the effect or its practical significance. A lower statistic suggests more consistent differences in favor of one sample over the other within each pair.\n",
    "\n",
    "The 'P-Value' assesses the probability that the observed differences could have occurred under the null hypothesis (which states that there is no difference between the pairs). A low p-value (typically below 0.05) would indicate that the differences observed are statistically significant, suggesting that one method consistently differs from the other in its performance. However, in our results, most p-values are relatively high, indicating that the evidence against the null hypothesis is not strong for most pairs, and hence, significant differences are not established.\n",
    "\n",
    "Together, these results give us a statistical basis to understand and compare the performance between the different XAI methods. However, the lack of low p-values in our results suggests that, statistically, there are no significant differences in the performance between most pairs of methods based on the given data. "
   ]
  },
  {
   "cell_type": "markdown",
   "id": "8403ddca-71a3-4419-a801-7bea1cdbd7ec",
   "metadata": {},
   "source": [
    "## Plotting Analysis "
   ]
  },
  {
   "cell_type": "markdown",
   "id": "1f9c3a4a-91ae-4467-93be-83677c1a7379",
   "metadata": {},
   "source": [
    "### Confusion Style Matrix for Wilcoxon Signed-Rank Test"
   ]
  },
  {
   "cell_type": "code",
   "execution_count": 17,
   "id": "b3a1615a-e801-472b-859a-59ebf8e5fb77",
   "metadata": {},
   "outputs": [],
   "source": [
    "# Compute the matrix of p-values\n",
    "p_values_matrix = compute_wilcoxon_matrix(data, methods)"
   ]
  },
  {
   "cell_type": "code",
   "execution_count": 18,
   "id": "48de1535-a97a-471a-822b-e0c710ec74a1",
   "metadata": {},
   "outputs": [
    {
     "data": {
      "image/png": "[encoded data removed]",
      "text/plain": [
       "<Figure size 576x432 with 2 Axes>"
      ]
     },
     "metadata": {
      "needs_background": "light"
     },
     "output_type": "display_data"
    }
   ],
   "source": [
    "# Plotting the confusion style matrix of p-values\n",
    "plt.figure(figsize=(8, 6))\n",
    "sns.heatmap(p_values_matrix, annot=True, cmap=\"coolwarm\", xticklabels=methods, yticklabels=methods)\n",
    "plt.title(\"P-Value Matrix for Pairwise Wilcoxon Tests\")\n",
    "plt.show()"
   ]
  },
  {
   "cell_type": "markdown",
   "id": "f5dc180e-1a55-4e2b-983e-f15b24d2ff48",
   "metadata": {},
   "source": [
    "The heatmap above represents a confusion style matrix that compares the p-values obtained from the pairwise Wilcoxon signed-rank tests between each pair of XAI methods (SHAP, LIME, ANCHORS, DiCE)."
   ]
  },
  {
   "cell_type": "markdown",
   "id": "27b391fc-14f7-436d-971c-04d2365ff34d",
   "metadata": {},
   "source": [
    "#### Interpretation of the Matrix"
   ]
  },
  {
   "cell_type": "markdown",
   "id": "c2a11961-fb87-44aa-83a6-e8e0b051b0dd",
   "metadata": {},
   "source": [
    "#### Cells: \n",
    "\n",
    "Each cell in the matrix represents the p-value from the Wilcoxon test for a pair of methods. The methods corresponding to each cell are indicated by the labels on the x and y axes.\n",
    "\n",
    "\n",
    "\n",
    "#### Color Coding: \n",
    "\n",
    "The color intensity in each cell corresponds to the p-value, with the color scale shown on the side. Typically, warmer colors (like red) indicate higher p-values, while cooler colors (like blue) indicate lower p-values.\n",
    "\n",
    "\n",
    "\n",
    "#### Diagonal: \n",
    "\n",
    "The diagonal, which compares each method with itself, is filled with ones, as a method compared with itself will always have a p-value of 1."
   ]
  },
  {
   "cell_type": "markdown",
   "id": "58120677-47e1-4a57-bd50-84603860ffa1",
   "metadata": {},
   "source": [
    "#### Significance of P-Values"
   ]
  },
  {
   "cell_type": "markdown",
   "id": "74e836b0-3784-4bde-9ccf-4c92ccbde6cc",
   "metadata": {},
   "source": [
    "#### Lower P-Values (Cooler Colors): \n",
    "Indicate a higher likelihood of a statistically significant difference between the methods. In this matrix, however, most of the p-values are relatively high, suggesting that the differences between most pairs of methods are not statistically significant.\n",
    "\n",
    "\n",
    "#### Higher P-Values (Warmer Colors): \n",
    "Suggest that the evidence against the null hypothesis of no difference is weaker."
   ]
  },
  {
   "cell_type": "markdown",
   "id": "c44a22a2-6288-447d-885a-a713476e82f0",
   "metadata": {},
   "source": [
    "This matrix provides a quick and comprehensive way to assess and compare the statistical significance of the differences between all pairs of methods. The predominantly higher p-values in this matrix suggest that, based on this data, there are no strong statistical differences in the performances of the various XAI methods tested."
   ]
  },
  {
   "cell_type": "markdown",
   "id": "c815864f-e5ae-4934-bf47-8db02fc9b4ed",
   "metadata": {},
   "source": [
    "### Histogram Analysis"
   ]
  },
  {
   "cell_type": "markdown",
   "id": "e38a0bb3-2732-4d54-8853-7dfb5b81121f",
   "metadata": {},
   "source": [
    "For a graphical representation, we can visualize the differences between the pairs of methods. This can be done by plotting the distribution of differences for each pair.\n",
    "\n",
    "These plots below visualize these differences."
   ]
  },
  {
   "cell_type": "code",
   "execution_count": 19,
   "id": "e38ad5c5-f20f-42d2-9765-81c9735f2cb8",
   "metadata": {},
   "outputs": [
    {
     "data": {
      "image/png": "[encoded data removed]",
      "text/plain": [
       "<Figure size 1080x720 with 6 Axes>"
      ]
     },
     "metadata": {
      "needs_background": "light"
     },
     "output_type": "display_data"
    }
   ],
   "source": [
    "# Plotting distribution plots for each pair to visualize differences\n",
    "plt.figure(figsize=(15, 10))\n",
    "for i, (method1, method2) in enumerate(combinations(methods, 2), 1):\n",
    "    plt.subplot(3, 2, i)\n",
    "    sns.histplot(data[method1] - data[method2], kde=True)\n",
    "    plt.title(f'Distribution of Differences: {method1} vs {method2}')\n",
    "    plt.xlabel('Difference in Scores')\n",
    "    plt.ylabel('Frequency')\n",
    "plt.tight_layout()\n",
    "plt.show()"
   ]
  },
  {
   "cell_type": "markdown",
   "id": "93b8e7e3-de59-4956-9fdb-c5400e056ecc",
   "metadata": {},
   "source": [
    "### Histograms - Graphical Output Interpretation"
   ]
  },
  {
   "cell_type": "markdown",
   "id": "66a8f496-0baa-474a-ace9-568d73ba184b",
   "metadata": {},
   "source": [
    "The histograms above visualize the distribution of differences between each pair of XAI methods. These plots help in understanding the magnitude and direction of the differences between the pairs, complementing the results from the Wilcoxon signed-rank test."
   ]
  },
  {
   "cell_type": "markdown",
   "id": "d55cae52-ba9d-4921-82aa-5079e5f9a53a",
   "metadata": {},
   "source": [
    "#### Distribution Shape: \n",
    "The shape of each distribution gives an idea of the consistency of the differences between methods. A narrow, peaked distribution suggests more consistent differences, while a wider distribution indicates more variability.\n",
    "\n",
    "#### Center of Distribution: \n",
    "The location of the center of each distribution (whether it is close to zero or not) helps in understanding if one method consistently outperforms the other, or if the differences are more balanced.\n",
    "\n",
    "#### Overlap with Zero: \n",
    "If the distribution overlaps significantly with zero, it suggests that the differences between the methods might not be substantial."
   ]
  },
  {
   "cell_type": "markdown",
   "id": "e3a85764-d5b7-482e-8454-28d3291202f7",
   "metadata": {},
   "source": [
    "### Histograms - Further Analysis of Output"
   ]
  },
  {
   "cell_type": "markdown",
   "id": "480cf93b-664e-4cc1-a85d-21ce55982286",
   "metadata": {},
   "source": [
    "#### General Explanation of Histogram View"
   ]
  },
  {
   "cell_type": "markdown",
   "id": "bfb5d49b-5e97-44c8-8b3d-6fbc72d919dd",
   "metadata": {},
   "source": [
    "The histogram graphs produced for the Wilcoxon signed-rank test are designed to visualize the differences in scores between pairs of XAI methods. Let's break down the components of these histograms:"
   ]
  },
  {
   "cell_type": "markdown",
   "id": "703e6067-ee72-4561-9e0b-3d6f042d715d",
   "metadata": {},
   "source": [
    "##### Curved Line (Kernel Density Estimate\n",
    "\n",
    "###### What It Represents: \n",
    "The curved line in each histogram is a Kernel Density Estimate (KDE). It is a smooth, continuous line that represents the probability density of the data points. Essentially, it's a smoothed version of the histogram.\n",
    "\n",
    "###### Purpose: \n",
    "The KDE provides a clearer view of the underlying distribution of the data, which can be particularly helpful in understanding the shape and spread of the differences between the XAI methods. It shows where the data points are concentrated and can reveal the presence of multiple modes (peaks) in the data.\n",
    "\n",
    "###### Interpretation: \n",
    "Peaks in the KDE indicate the most common difference values. For example, if a KDE has a peak around zero, it suggests that many of the differences between the two methods are close to zero, indicating similar performance. If the peak is far from zero, it indicates a consistent difference in one direction."
   ]
  },
  {
   "cell_type": "markdown",
   "id": "8d03ac0c-544a-4815-8f6b-711ea817b9d9",
   "metadata": {},
   "source": [
    "##### Bars in the Histogram\n",
    "\n",
    "###### What They Represent: \n",
    "Each bar in the histogram represents the frequency (count) of data points (differences in scores) that fall within a specific range.\n",
    "\n",
    "###### Purpose: \n",
    "Histograms show the distribution of the differences in a discrete and tangible way. By counting the number of differences that fall into each bin (the range a bar covers), they provide a direct visual representation of the data's distribution.\n",
    "\n",
    "###### Interpretation:\n",
    "Height of Bars: Taller bars indicate that more data points fall within that range. For instance, a tall bar near zero means many of the score differences are close to zero.\n",
    "\n",
    "Width of Bars: This typically remains constant in a histogram and represents the range of differences included in each bar.\n",
    "\n",
    "Location of Bars: Where the bars are centered can tell us about the tendency of the differences. Bars centered around zero suggest no significant difference between the methods, while bars that are predominantly positive or negative suggest a consistent trend in favor or against one method over the other."
   ]
  },
  {
   "cell_type": "markdown",
   "id": "e120b13b-93de-47e1-b733-7fd63b9ffb79",
   "metadata": {},
   "source": [
    "#### Contextualizing with XAI Methods"
   ]
  },
  {
   "cell_type": "markdown",
   "id": "436657a3-6069-4412-89d0-cc56dee5d155",
   "metadata": {},
   "source": [
    "In the context of the XAI methods being compared, the histograms help in understanding not just if there are differences, but also the nature of these differences. \n",
    "\n",
    "For example, if we are comparing SHAP and LIME, and we observe that most of the histogram bars (and the peak of the KDE) are positive, it would suggest that SHAP generally has higher scores than LIME. \n",
    "\n",
    "The exact interpretation would depend on the specific pairs of methods and the data at hand."
   ]
  },
  {
   "cell_type": "markdown",
   "id": "05fea4cc-28b0-444f-8c77-6dfedfbdcdbf",
   "metadata": {},
   "source": [
    "#### Specific Analysis of Each Histogram"
   ]
  },
  {
   "cell_type": "markdown",
   "id": "34e59a76-5d66-4539-8584-f22f2ec2706a",
   "metadata": {},
   "source": [
    "##### 1. SHAP vs LIME\n",
    "\n",
    "###### Histogram Shape: If this histogram showed a peak around zero and symmetrical distribution, it would indicate that SHAP and LIME often perform similarly. However, any skewness or shift away from zero would suggest a tendency for one method to outperform the other.\n",
    "\n",
    "###### KDE Peak: A peak close to zero would imply many instances where SHAP and LIME have negligible differences in scores. A peak significantly to the right or left would indicate consistent performance differences."
   ]
  },
  {
   "cell_type": "markdown",
   "id": "996ac595-1383-42ef-9b4e-425603b83073",
   "metadata": {},
   "source": [
    "##### 2. SHAP vs ANCHORS\n",
    "\n",
    "###### Histogram Shape: The distribution of differences between SHAP and ANCHORS would reveal their comparative performance. For instance, a right-skewed histogram would suggest that SHAP often scores higher than ANCHORS.\n",
    "\n",
    "###### KDE Peak: A peak or multiple peaks would help identify the most common difference in scores between these two methods."
   ]
  },
  {
   "cell_type": "markdown",
   "id": "d1562526-e47a-40c8-a376-1cdc3f828683",
   "metadata": {},
   "source": [
    "##### 3. SHAP vs DiCE\n",
    "\n",
    "###### Histogram Shape: This histogram would show how SHAP compares to DiCE. A balanced histogram around zero would suggest similar performance, while any imbalance would show a tendency of one method over the other.\n",
    "\n",
    "###### KDE Peak: The location of the peak would indicate the most frequent scoring difference between SHAP and DiCE."
   ]
  },
  {
   "cell_type": "markdown",
   "id": "e413ac05-46f6-4438-8b97-57ad7d2b6596",
   "metadata": {},
   "source": [
    "##### 4. LIME vs ANCHORS\n",
    "\n",
    "###### Histogram Shape: The shape would indicate whether LIME typically scores higher or lower than ANCHORS, or if their performance is comparable (indicated by a histogram centered around zero).\n",
    "\n",
    "###### KDE Peak: The peak's position would point to the most common score differences between LIME and ANCHORS."
   ]
  },
  {
   "cell_type": "markdown",
   "id": "180a29da-addd-4f59-9c98-5cb5f021c0ac",
   "metadata": {},
   "source": [
    "##### 5. LIME vs DiCE\n",
    "\n",
    "###### Histogram Shape: This would reveal if there's a consistent trend in the performance of LIME compared to DiCE. A histogram skewed in one direction would suggest a regular advantage for one method.\n",
    "\n",
    "###### KDE Peak: The peak would highlight the score difference that occurs most frequently between LIME and DiCE."
   ]
  },
  {
   "cell_type": "markdown",
   "id": "a70c3eb2-7966-43f2-93ef-a263a8973162",
   "metadata": {},
   "source": [
    "##### 6. ANCHORS vs DiCE\n",
    "\n",
    "###### Histogram Shape: A histogram for ANCHORS vs DiCE would show which method tends to have higher scores, or if they are generally comparable.\n",
    "\n",
    "###### KDE Peak: The position of the peak would illustrate the most typical score difference between ANCHORS and DiCE."
   ]
  },
  {
   "cell_type": "markdown",
   "id": "1af4e81c-a3db-42df-8e92-c5a3a87c7f4c",
   "metadata": {},
   "source": [
    "##### In all cases, the closer the histogram and KDE are centered around zero, the more similar the performance of the two compared methods. Deviations from zero indicate a tendency for one method to outperform the other. The height and spread of the histogram bars, along with the KDE curve, provide insights into the consistency and range of these performance differences."
   ]
  },
  {
   "cell_type": "markdown",
   "id": "4eb7d40b-e881-4d62-823c-b683810121fe",
   "metadata": {},
   "source": [
    "#### Additional Commentary on XAI Analysis"
   ]
  },
  {
   "cell_type": "markdown",
   "id": "c22dd2fb-dab2-4c2c-8cc8-e1193d532570",
   "metadata": {},
   "source": [
    "Certainly! Let's provide a more specific analysis for each individual histogram, describing the comparison between pairs of XAI methods. This analysis is based on the assumption of typical histogram interpretations, as the actual histograms are not currently viewable.\n",
    "\n",
    "1. SHAP vs LIME\n",
    "If the Histogram is Centered Around Zero: This would suggest that SHAP and LIME have similar performance levels on average.\n",
    "If Skewed to the Right: SHAP tends to outperform LIME.\n",
    "If Skewed to the Left: LIME tends to outperform SHAP.\n",
    "KDE Peak: Indicates the most common magnitude of difference between SHAP and LIME.\n",
    "2. SHAP vs ANCHORS\n",
    "Centered Around Zero: Implies comparable performance between SHAP and ANCHORS.\n",
    "Skewed to the Right: Indicates SHAP generally scores higher than ANCHORS.\n",
    "Skewed to the Left: Suggests ANCHORS often outperforms SHAP.\n",
    "KDE Peak: Shows the typical score difference between SHAP and ANCHORS.\n",
    "3. SHAP vs DiCE\n",
    "Centered Around Zero: Both methods perform similarly on average.\n",
    "Right Skew: SHAP tends to have higher scores compared to DiCE.\n",
    "Left Skew: DiCE usually scores higher than SHAP.\n",
    "KDE Peak: Represents the most frequent score difference between SHAP and DiCE.\n",
    "4. LIME vs ANCHORS\n",
    "Centered Around Zero: No significant performance difference between LIME and ANCHORS.\n",
    "Right Skew: LIME usually outperforms ANCHORS.\n",
    "Left Skew: ANCHORS typically has higher scores than LIME.\n",
    "KDE Peak: Highlights the most common performance difference magnitude between LIME and ANCHORS.\n",
    "5. LIME vs DiCE\n",
    "Centered Around Zero: Indicates similar performance levels between LIME and DiCE.\n",
    "Skewed Right: LIME tends to score higher than DiCE.\n",
    "Skewed Left: DiCE usually outperforms LIME.\n",
    "KDE Peak: Shows the most frequent score differences between LIME and DiCE.\n",
    "6. ANCHORS vs DiCE\n",
    "Centered Around Zero: Suggests that ANCHORS and DiCE have comparable performance.\n",
    "Right Skew: Implies ANCHORS often scores higher than DiCE.\n",
    "Left Skew: DiCE typically outperforms ANCHORS.\n",
    "KDE Peak: Indicates the most common difference in scores between ANCHORS and DiCE.\n",
    "Each histogram, through its skewness and the position of its KDE peak, provides a visual representation of how the performances of the two XAI methods compare. The specific direction of skewness (left or right) and the position of the peak relative to zero are key indicators of which method tends to have higher scores and the typical magnitude of their performance differences."
   ]
  },
  {
   "cell_type": "code",
   "execution_count": null,
   "id": "24d6f240-a88a-45f7-b39c-13a7c9970ab1",
   "metadata": {},
   "outputs": [],
   "source": []
  }
 ],
 "metadata": {
  "kernelspec": {
   "display_name": "Python 3",
   "language": "python",
   "name": "python3"
  },
  "language_info": {
   "codemirror_mode": {
    "name": "ipython",
    "version": 3
   },
   "file_extension": ".py",
   "mimetype": "text/x-python",
   "name": "python",
   "nbconvert_exporter": "python",
   "pygments_lexer": "ipython3",
   "version": "3.8.10"
  }
 },
 "nbformat": 4,
 "nbformat_minor": 5
}
